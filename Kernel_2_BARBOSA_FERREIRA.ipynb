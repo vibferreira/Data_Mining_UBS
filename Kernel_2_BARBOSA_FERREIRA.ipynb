{
  "cells": [
    {
      "cell_type": "markdown",
      "metadata": {
        "id": "view-in-github",
        "colab_type": "text"
      },
      "source": [
        "<a href=\"https://colab.research.google.com/github/vibferreira/Data_Mining_UBS/blob/main/Kernel_2_BARBOSA_FERREIRA.ipynb\" target=\"_parent\"><img src=\"https://colab.research.google.com/assets/colab-badge.svg\" alt=\"Open In Colab\"/></a>"
      ]
    },
    {
      "cell_type": "markdown",
      "metadata": {
        "id": "iHdkDNiv051R"
      },
      "source": [
        "## Assignment Kernel 2 - Time Elastic Similarity Spaces for Time Series Mining\n",
        "### Code & Report\n",
        "\n",
        "**Vitória Barbosa Ferreira** - e2008984\n",
        "##### Data Mining - Copernicus Master in Digital Earth"
      ]
    },
    {
      "cell_type": "markdown",
      "metadata": {
        "id": "qbT5hCOEN_un"
      },
      "source": [
        "This assigment consists on experimenting on Time Elastic Similarity Spaces for Time Series Mining. Question 1 digs into the Lavenshstein's distance (string similarity).\n",
        "\n",
        "Questions 2 to 4 focus on time series mining and time series metrics to classify 83 individuals/users' finger-drawn signatures from the MOBISIG Dataset were taken with a capacitive touchscreen-based mobile device in this pseudo signature dataset. For each user there are 45 genuine signatures and 20 forged signatures, which were obtained using a device with a capacitive touchscreen. Each observation on the dataset consists of one point in the signature and columns representing the coordinates (x,y) time, pressure, finger area, and data saved from the accelerometer and gyroscope ([Szabó and Tordai, 2017)](https://www.hindawi.com/journals/misy/2018/3127042/)\n",
        "\n",
        "The goal of this exercise is to classify the signatures on genuine or forged based on similarity metrics calculated from the series of signatures. In addition, the report also sheds light on the challenges found along the way.\n",
        "\n",
        "\n",
        "For more information on the dataset consult: https://www.hindawi.com/journals/misy/2018/3127042/"
      ]
    },
    {
      "cell_type": "markdown",
      "metadata": {
        "id": "PWAONYE51AtM"
      },
      "source": [
        "## Data Loading"
      ]
    },
    {
      "cell_type": "code",
      "execution_count": null,
      "metadata": {
        "colab": {
          "base_uri": "https://localhost:8080/"
        },
        "id": "4YdPjVmO1M9w",
        "outputId": "e2fbe133-9f67-4310-c53c-2846da6c2216"
      },
      "outputs": [
        {
          "output_type": "stream",
          "name": "stdout",
          "text": [
            "Mounted at /content/drive\n"
          ]
        }
      ],
      "source": [
        "from google.colab import drive\n",
        "drive.mount('/content/drive')"
      ]
    },
    {
      "cell_type": "code",
      "execution_count": null,
      "metadata": {
        "id": "oo5pz-1w1y80"
      },
      "outputs": [],
      "source": [
        "# path on drive\n",
        "path_ = '/content/drive/MyDrive/vitoria.barbosa.ferreira@usp.br 2021-08-09 21:44/Master/Copernicus - 15 01/Classes/3 semester/Data Mining/Time_Elastic_Kernels'"
      ]
    },
    {
      "cell_type": "code",
      "execution_count": null,
      "metadata": {
        "colab": {
          "base_uri": "https://localhost:8080/"
        },
        "id": "nCsQ3cgN051J",
        "outputId": "db0ce040-f666-4c23-8299-77f9d16d6552"
      },
      "outputs": [
        {
          "output_type": "stream",
          "name": "stdout",
          "text": [
            "path: /content/drive/MyDrive/vitoria.barbosa.ferreira@usp.br 2021-08-09 21:44/Master/Copernicus - 15 01/Classes/3 semester/Data Mining/Time_Elastic_Kernels/MOBISIG/\n",
            "/content/drive/MyDrive/vitoria.barbosa.ferreira@usp.br 2021-08-09 21:44/Master/Copernicus - 15 01/Classes/3 semester/Data Mining/Time_Elastic_Kernels\n"
          ]
        },
        {
          "output_type": "stream",
          "name": "stderr",
          "text": [
            "/usr/local/lib/python3.7/dist-packages/ipykernel_launcher.py:197: VisibleDeprecationWarning: Creating an ndarray from ragged nested sequences (which is a list-or-tuple of lists-or-tuples-or ndarrays with different lengths or shapes) is deprecated. If you meant to do this, you must specify 'dtype=object' when creating the ndarray\n"
          ]
        }
      ],
      "source": [
        "# Data Loading\n",
        "# -*- coding: utf-8 -*-\n",
        "\"\"\"\n",
        "Created on Sat Aug  3 16:41:48 2019\n",
        "\n",
        "@author: pfm\n",
        "\"\"\"\n",
        "\n",
        "import numpy as np\n",
        "import pandas as pd\n",
        "import matplotlib.pyplot as plt\n",
        "import glob, os, sys\n",
        "import re, math\n",
        "import argparse\n",
        "from collections import Counter\n",
        "from statistics import mode\n",
        "# import eer\n",
        "\n",
        "\n",
        "\n",
        "def normalizeMaxMin(V):\n",
        "    M=np.max(V)\n",
        "    m=np.min(V)\n",
        "    V=(V-m)/(M-m)\n",
        "    return V\n",
        "    \n",
        "def convertLine(l1):\n",
        "    lout=[]\n",
        "    l1=l1.split(' ')\n",
        "    for e in l1:\n",
        "        lout.append(float(e))\n",
        "    return np.array(lout)\n",
        "\n",
        "\n",
        "def convertLineMOBISIG(l1):\n",
        "    lout=[]\n",
        "    l1=re.split(' |,|;|\\n|\\t|\\0',l1)\n",
        "    #l1=l1.split(' ')\n",
        "    ii=0\n",
        "    if len(l1)>1:\n",
        "        for e in l1:\n",
        "            if e!=\"\":\n",
        "                if ii!=2 and ii!=4:\n",
        "                    lout.append(float(e))\n",
        "                ii+=1\n",
        "                if ii==7:\n",
        "                    break\n",
        "    return np.array(lout)\n",
        "    \n",
        "    \n",
        "def loadFile(fname, removeMean=True, withSpeed=False, withAcceleration=False):\n",
        "    f = open(fname, 'r')\n",
        "    lines=f.readlines()\n",
        "    L=len(lines)\n",
        "    data=[]\n",
        "    for i in range(L):\n",
        "        d=convertLine(lines[i])\n",
        "        data.append(d)\n",
        "    data = np.array(data)\n",
        "    if withSpeed:\n",
        "        dim=len(data[0])\n",
        "        D=np.zeros((len(data),dim+2))\n",
        "        for i in range(len(data)):\n",
        "            D[i,0:dim]=data[i,:]\n",
        "            if i>0:\n",
        "                D[i,dim]=data[i,0]-data[i-1,0]\n",
        "                D[i,dim+1]=data[i,1]-data[i-1,1]\n",
        "        data=D\n",
        "\n",
        "    dim=len(data[0])\n",
        "    m=np.zeros(dim)\n",
        "    if removeMean:\n",
        "        sigma=np.zeros(dim)\n",
        "        for k in range(dim):\n",
        "            m[k]=np.mean(data[:,k])\n",
        "            sigma[k]=np.std(data[:,k])\n",
        "            data[:,k]=(data[:,k]-m[k])/sigma[k]\n",
        "      \n",
        "    if removeMean:\n",
        "        M=np.zeros(dim)\n",
        "        for k in range(dim):\n",
        "            m[k]=np.min(data[:,k])\n",
        "            M[k]=np.max(data[:,k])\n",
        "            data[:,k]=(data[:,k]-m[k])/(M[k]-m[k])\n",
        "            \n",
        "    # Suppress Z==0\n",
        "    D=[]\n",
        "    for i in range(len(data)):\n",
        "       if data[i,2]>.01:\n",
        "           D.append(data[i,:])\n",
        "    data=np.array(D)\n",
        "    dim=len(data[0])\n",
        "    if removeMean:\n",
        "        sigma=np.zeros(dim)\n",
        "        for k in range(dim):\n",
        "            m[k]=np.mean(data[:,k])\n",
        "            sigma[k]=np.std(data[:,k])\n",
        "            data[:,k]=(data[:,k]-m[k])/sigma[k]\n",
        "\n",
        "    return data\n",
        "\n",
        "    \n",
        "def loadFileMOBISIG(fname, removeMean=True, path='./DATA/'):\n",
        "    f = open(fname, 'r')\n",
        "    lines=f.readlines()\n",
        "    L=len(lines)\n",
        "    data=[]\n",
        "    for i in range(1,L):\n",
        "        if lines[i]!=\"\\n\":\n",
        "          d=convertLineMOBISIG(lines[i])\n",
        "          data.append(d)\n",
        "    data = np.array(data)\n",
        "    dim=len(data[0])\n",
        "    m=np.zeros(dim)\n",
        "    sigma=np.zeros(dim)\n",
        "    '''if removeMean:\n",
        "\n",
        "        for k in range(dim):\n",
        "            m[k]=np.mean(data[:,k])\n",
        "            sigma[k]=np.std(data[:,k])\n",
        "            data[:,k]=(data[:,k]-m[k])/sigma[k]'''\n",
        "      \n",
        "    if removeMean:\n",
        "        M=np.zeros(dim)\n",
        "        for k in range(dim):\n",
        "            m[k]=np.min(data[:,k])\n",
        "            M[k]=np.max(data[:,k])\n",
        "            data[:,k]=(data[:,k]-m[k])/(M[k]-m[k]) \n",
        "    # Suppress Z==0\n",
        "    D=[]\n",
        "    for i in range(len(data)):\n",
        "       if data[i,2]>0:#.25:\n",
        "           '''d=[]\n",
        "           for k in range(dim):\n",
        "               if k!=2:\n",
        "                   d.append(data[i,k])\n",
        "           D.append(np.array(d))'''\n",
        "           D.append(data[i,:])\n",
        "    data=np.array(D)\n",
        "    dim=len(data[0])\n",
        "    if removeMean:\n",
        "        for k in range(dim):\n",
        "            m[k]=np.mean(data[:,k])\n",
        "            sigma[k]=np.std(data[:,k])\n",
        "            data[:,k]=(data[:,k]-m[k])/sigma[k]  \n",
        "\n",
        "    return data\n",
        "\n",
        "\n",
        "def getGenuinesTrainTest_MOBISIG(uid, ntrain=5, path='./DATA/'):\n",
        "    path += uid\n",
        "    os.chdir(path)\n",
        "    lfiles=[]\n",
        "    for file in glob.glob(\"SIGN_GEN_*.csv\"):\n",
        "        lfiles.append(file)\n",
        "    lfiles=sorted(lfiles)\n",
        "    #I=np.arange(len(lfiles))\n",
        "    np.random.shuffle(lfiles)\n",
        "    if ntrain>len(lfiles)-1:\n",
        "        ntrain=len(lfiles)-1\n",
        "    genuineTrainFiles=lfiles[0:ntrain]\n",
        "    genuineTestFiles=lfiles[ntrain:]\n",
        "    return genuineTrainFiles, genuineTestFiles\n",
        "\n",
        "def getForgeriesTest_MOBISIG(uid, path='./DATA/'):\n",
        "    path += uid\n",
        "    os.chdir(path)\n",
        "    lfiles=[]\n",
        "    for file in glob.glob(\"SIGN_FOR_*.csv\"):\n",
        "        lfiles.append(file)\n",
        "    lfiles=sorted(lfiles)\n",
        "    return lfiles\n",
        "\n",
        "\n",
        "def loadTrainQuestionnedMOBISIG(uid, ntrain=5, path='./DATA/', seed=42):\n",
        "    np.random.seed(seed=seed)\n",
        "    lgtrain, lgtest = getGenuinesTrainTest_MOBISIG(uid, ntrain=ntrain, path=path)\n",
        "    lftest = getForgeriesTest_MOBISIG(uid, path=path)\n",
        "    path += uid + '/'\n",
        "    os.chdir(path)\n",
        "    dataT=[]\n",
        "    for file in lgtrain:\n",
        "        d=loadFileMOBISIG(path+file)\n",
        "        dataT.append(d)\n",
        "\n",
        "    data=[]\n",
        "    yq=[]\n",
        "    for file in lgtest:\n",
        "        d=loadFileMOBISIG(path+file)\n",
        "        data.append(d)\n",
        "        yq.append(0)\n",
        "\n",
        "    for file in lftest:\n",
        "        d=loadFileMOBISIG(path+file)\n",
        "        data.append(d)\n",
        "        yq.append(1)\n",
        "    return np.array(dataT), np.array(data), yq\n",
        "\n",
        "def processProblem(uid, X_train, X_test, y_test):\n",
        "    print('Processing problem:', uid, '...')\n",
        "    ## TO DO\n",
        "    ##\n",
        "\n",
        "# set the correct path Local system\n",
        "# path0=sys.path[0]\n",
        "# path=path0 + '\\MOBISIG\\\\'\n",
        "# os.chdir(path)\n",
        "# print('path:',path)\n",
        "# luid = glob.glob(\"USER*\")\n",
        "# luid.sort()\n",
        "\n",
        "\n",
        "# set the correct path DRIVE\n",
        "path0=path_\n",
        "path=path0 + '/MOBISIG/'\n",
        "os.chdir(path)\n",
        "print('path:',path)\n",
        "luid = glob.glob(\"USER*\")\n",
        "luid.sort()\n",
        "\n",
        "\n",
        "# load first USER data\n",
        "uid=luid[0]\n",
        "print(path0)\n",
        "X_train, X_test, y_test = loadTrainQuestionnedMOBISIG(uid, ntrain=5, path=path)"
      ]
    },
    {
      "cell_type": "code",
      "execution_count": null,
      "metadata": {
        "id": "znjMSR1Z3hjU"
      },
      "outputs": [],
      "source": [
        "%%capture\n",
        "!pip install dtw-python\n",
        "!pip install python-Levenshtein\n",
        "\n",
        "# To import python files in colab\n",
        "import sys\n",
        "sys.path.append(path_)"
      ]
    },
    {
      "cell_type": "code",
      "execution_count": null,
      "metadata": {
        "colab": {
          "base_uri": "https://localhost:8080/"
        },
        "id": "kR-kfcqZ051S",
        "outputId": "207cd115-80c9-4f91-ef46-ba0618064a02"
      },
      "outputs": [
        {
          "output_type": "stream",
          "name": "stdout",
          "text": [
            "Importing the dtw module. When using in academic works please cite:\n",
            "  T. Giorgino. Computing and Visualizing Dynamic Time Warping Alignments in R: The dtw Package.\n",
            "  J. Stat. Soft., doi:10.18637/jss.v031.i07.\n",
            "\n"
          ]
        }
      ],
      "source": [
        "import time\n",
        "import dtw\n",
        "import dfrechet_1 as dfre\n",
        "import matplotlib.pyplot as plt\n",
        "from scipy.optimize import brentq\n",
        "from scipy.interpolate import interp1d\n",
        "import os\n",
        "\n",
        "from sklearn.metrics import roc_auc_score\n",
        "from sklearn.metrics import roc_curve\n",
        "from sklearn.metrics import average_precision_score\n",
        "from sklearn.neighbors import KNeighborsClassifier\n",
        "from sklearn.model_selection import train_test_split\n",
        "from sklearn import preprocessing"
      ]
    },
    {
      "cell_type": "markdown",
      "metadata": {
        "id": "4VLHlR9mB-Xn"
      },
      "source": [
        ""
      ]
    },
    {
      "cell_type": "markdown",
      "metadata": {
        "id": "N-LnmvsB2Za5"
      },
      "source": [
        " ## Question 1 - Levenshtein’s distance of the strings"
      ]
    },
    {
      "cell_type": "markdown",
      "metadata": {
        "id": "ATBHjNVV051T"
      },
      "source": [
        "\n",
        "**Draw the alignment matrix allowing to evaluate the pairwise Levenshtein’s distance of the strings\n",
        "\"aBigRedHat\" and \"aRedBigHat\" with the following costs : i) deletion/insertion=1, substitution=1\n",
        "(ai 6= bj ), match=0 (ai = bj ). What do you observe in this matrix?**\n",
        "\n",
        "Levenshtein’s distance measures how apart two string are by checking the number of edits you need to do to change a string into another. These edits are deletion/insertion = 1, change; substitution = 1, change; and match = 0, no change. For this exercise the Lavenshtein's distance were calculated manually, then transformed into a sequence of number to verify the cost Matrix if the sequence was numeric instead of non-numerical. This method is useful to determine the similarity among two strings.\n",
        "\n",
        "The gray arrows in the below images show the minimum cost to change a string into another. "
      ]
    },
    {
      "cell_type": "code",
      "execution_count": null,
      "metadata": {
        "colab": {
          "base_uri": "https://localhost:8080/"
        },
        "id": "4mV4rGl1051U",
        "outputId": "9eb3e51e-733b-48eb-dec8-2bc46ef8ba09"
      },
      "outputs": [
        {
          "output_type": "stream",
          "name": "stdout",
          "text": [
            "a: [3 0 7 6 2 5 4 1 3 8]\n",
            "b: [3 2 5 4 0 7 6 1 3 8]\n",
            "\n",
            "Numeric sequence\n",
            " [[ 0.  1.  3.  4.  7. 11. 14. 16. 16. 21.]\n",
            " [ 3.  3.  8.  8.  4. 11. 17. 16. 19. 27.]\n",
            " [ 7.  8.  7. 10. 11.  4.  5. 11. 15. 16.]\n",
            " [10. 12.  8. 10. 16.  5.  4.  9. 12. 14.]\n",
            " [11. 10. 11. 12. 14. 10.  8.  6.  7. 13.]\n",
            " [13. 13. 10. 11. 16. 12.  9. 10.  9. 12.]\n",
            " [14. 15. 11. 10. 14. 15. 11. 13. 10. 14.]\n",
            " [16. 16. 15. 13. 12. 18. 16. 11. 12. 19.]\n",
            " [16. 17. 17. 14. 15. 19. 19. 13. 11. 16.]\n",
            " [21. 23. 20. 18. 23. 17. 19. 20. 16. 11.]]\n"
          ]
        }
      ],
      "source": [
        "# Series\n",
        "series1 = list('aBigRedHat')\n",
        "series2 = list('aRedBigHat')\n",
        "\n",
        "# Manually calculated:\n",
        "arr = np.array([[0,1,2,3,4,5,6,7,7,8],\n",
        "                [1,1,2,3,3,4,5,6,7,8],\n",
        "                [3,3,3,3,4,4,3,4,5,6],\n",
        "                [4,3,4,4,4,5,4,4,5,6],\n",
        "                [5,4,3,4,5,5,5,5,5,6],\n",
        "                [6,5,4,3,4,5,6,6,6,6],\n",
        "                [7,6,5,4,4,5,6,6,7,8],\n",
        "                [7,7,6,5,5,5,6,7,6,7],\n",
        "                [8,8,7,6,6,6,6,7,7,6]])\n",
        "\n",
        "# If series1 and series2 were instead numbers: \n",
        "\n",
        "# Encoding\n",
        "labelencoder = preprocessing. LabelEncoder()\n",
        "\n",
        "# Encoded arrays\n",
        "a = labelencoder.fit_transform(series1)\n",
        "b = labelencoder.fit_transform(series2)\n",
        "\n",
        "x = dtw.dtw(a,b, keep_internals=True)\n",
        "print('a:',a)\n",
        "print('b:',b)\n",
        "print('\\nNumeric sequence\\n',x.costMatrix)"
      ]
    },
    {
      "cell_type": "markdown",
      "metadata": {
        "id": "VzpqXOjg051V"
      },
      "source": [
        "## Question 2 - Evaluate \"time elastic\" distances on the MOBISIG hand-written signature database. \n",
        "\n",
        "- To compare the classifiers, we will use the Area Under the ROC Curve (AUC), the Average Precision (AP) and the Equal Error Rate (EER) measures.\n",
        "- Evaluate also the processing elapsed time for each tested distance."
      ]
    },
    {
      "cell_type": "markdown",
      "metadata": {
        "id": "aXAIgRYU051V"
      },
      "source": [
        "#### Visualizing the Dataset (Single User - Genuine Signatures)"
      ]
    },
    {
      "cell_type": "code",
      "execution_count": null,
      "metadata": {
        "colab": {
          "base_uri": "https://localhost:8080/",
          "height": 483
        },
        "id": "uv_Y-hpJ051W",
        "outputId": "44249fc7-77f3-4ff2-b2f2-5de680e41398"
      },
      "outputs": [
        {
          "output_type": "display_data",
          "data": {
            "image/png": "[encoded data removed]",
            "text/plain": [
              "<Figure size 1440x576 with 6 Axes>"
            ]
          },
          "metadata": {
            "needs_background": "light"
          }
        }
      ],
      "source": [
        "fig, axs = plt.subplots(nrows=math.ceil(X_train.shape[0]/2),ncols=round(X_train.shape[0]/2), figsize=(20, 8), sharex=True, sharey=True)\n",
        "for i, ax in enumerate(axs.flatten()): # Five genuine signatures in one training set\n",
        "    ax.plot(X_test[i][:,0], X_test[i][:,1])"
      ]
    },
    {
      "cell_type": "markdown",
      "metadata": {
        "id": "8UzDm0Pcidyf"
      },
      "source": [
        "#### Develop a python program to process in sequence all these 83 tasks. We will first consider 1-NN classifiers based on the Euclidean distance (ED), the DTW distance and The Frechet’s distance."
      ]
    },
    {
      "cell_type": "markdown",
      "metadata": {
        "id": "4ZsDX1w13G-p"
      },
      "source": [
        "Given the size of the final dataset (60*83) and the processing time to calculate the distances, especially considering the Frechet's distance (60*83*5*83), the dataset was set to only 5 USERs, corresponding to 300 signatures, among which 200 are genuine and 100 are forged. Another approach is to consider only the mean of the observations in each signature to reduce computation time. However, even genuine signatures may have a large variability among each other which may influence the results. Therefore, it was opted to mostly work with the entire series, but with a very reduced number of signatures. "
      ]
    },
    {
      "cell_type": "code",
      "execution_count": null,
      "metadata": {
        "colab": {
          "base_uri": "https://localhost:8080/"
        },
        "id": "2vsnAFOx051W",
        "outputId": "d1811242-b686-497a-9a4e-fb411abc5603"
      },
      "outputs": [
        {
          "output_type": "stream",
          "name": "stderr",
          "text": [
            "/usr/local/lib/python3.7/dist-packages/ipykernel_launcher.py:197: VisibleDeprecationWarning: Creating an ndarray from ragged nested sequences (which is a list-or-tuple of lists-or-tuples-or ndarrays with different lengths or shapes) is deprecated. If you meant to do this, you must specify 'dtype=object' when creating the ndarray\n"
          ]
        },
        {
          "output_type": "stream",
          "name": "stdout",
          "text": [
            "X_test size: (300,) \n",
            "X_train size: (25,)\n"
          ]
        }
      ],
      "source": [
        "# Stacking the 5 datasets\n",
        "X_train_all = []\n",
        "X_test_all = []\n",
        "y_test_all = []\n",
        "\n",
        "for i in np.sort(luid)[77:-1]: # last file is a csv, not an user\n",
        "    X_train, X_test, y_test = loadTrainQuestionnedMOBISIG(i, ntrain=5, path=path)\n",
        "    X_train_all.append(X_train)\n",
        "    X_test_all.append(X_test)\n",
        "    y_test_all.append(y_test)\n",
        "\n",
        "X_train_ = np.asarray(X_train_all)\n",
        "X_test_ = np.asarray(X_test_all)\n",
        "y_test_ = np.asarray(y_test_all)\n",
        "\n",
        "# Concatenating the users in a single array\n",
        "y_test_c = np.concatenate(y_test_, axis=0)\n",
        "X_test_c = np.concatenate(X_test_, axis=0)\n",
        "X_train_c = np.concatenate(X_train_, axis=0)\n",
        "\n",
        "print('X_test size:', X_test_c.shape, '\\nX_train size:', X_train_c.shape)\n",
        "\n",
        "# # Save the dataset for later use\n",
        "# np.save(path+'X_train', X_train_c)\n",
        "# np.save(path+'X_test', X_test_c)\n",
        "# np.save(path+'y_test', y_test_c)\n",
        "\n",
        "# # Load 5 USERS\n",
        "# X_train_c = np.load(path+'X_train.npy', allow_pickle=True)\n",
        "# X_test_c = np.load(path+'X_test.npy', allow_pickle=True)\n",
        "# y_test_c = np.load(path+'y_test.npy', allow_pickle=True)"
      ]
    },
    {
      "cell_type": "code",
      "execution_count": null,
      "metadata": {
        "colab": {
          "base_uri": "https://localhost:8080/",
          "height": 373
        },
        "id": "owFsl9Wj051Y",
        "outputId": "c52c6389-f7e6-415c-e6ff-296526b05593"
      },
      "outputs": [
        {
          "output_type": "display_data",
          "data": {
            "image/png": "[encoded data removed]",
            "text/plain": [
              "<Figure size 720x432 with 1 Axes>"
            ]
          },
          "metadata": {}
        }
      ],
      "source": [
        "# Visualizing Genuine vs Fake signatures\n",
        "sizes = np.unique(np.concatenate(y_test_), return_counts=True)[1]\n",
        "labels = ['Genuine', 'Forged']\n",
        "\n",
        "def make_autopct(values):\n",
        "    def my_autopct(pct):\n",
        "        val = int(round(pct*sum(values)/100.0))\n",
        "        return '{p:.2f}% \\n({v:d})'.format(p=pct,v=val)\n",
        "    return my_autopct\n",
        "\n",
        "plt.figure(figsize=(10,6))\n",
        "plt.pie(sizes, labels=labels, shadow=True, autopct=make_autopct(sizes), startangle=90, colors=['#35A6C9','#E7EA78'])\n",
        "plt.title('% of Genuine and Forged signatures')\n",
        "plt.show()"
      ]
    },
    {
      "cell_type": "markdown",
      "metadata": {
        "id": "muqKV4tqiHpI"
      },
      "source": [
        "##### **Feature Extraction**\n",
        "For each user, the dataset is divided into genuine signatures and mixed between genuine and forged signatures. In order to compute DTW, Euclidean Distance and DTW each signature on the mixed dataset was compared with 5 genuine signatures. Then the mean among the distances obtained in each interaction were calculated. The distances are then considered as input to a KNN classifier. \n",
        "In order to calculate the Euclidean Distance, genuine and mixed datasets had to be padded to the same size. In order to calculate the Frechet distance 150 random points of each signature were chosen in order to decrease the computation time. No further preprocessing were required to apply DTW.\n"
      ]
    },
    {
      "cell_type": "code",
      "execution_count": null,
      "metadata": {
        "id": "vkktw388051Y"
      },
      "outputs": [],
      "source": [
        "import numpy as np\n",
        "np.seterr(divide='ignore', invalid='ignore')\n",
        "\n",
        "def normalisation(X):\n",
        "    return (X - np.min(X))/(np.max(X)-np.min(X))\n",
        "\n",
        "def euclidean_distance(X_test, X_train):\n",
        "    dist = []\n",
        "    # Padding with zeros \n",
        "    for test in X_test:\n",
        "        for train in X_train:\n",
        "            diff = np.abs(len(train) - len(test))\n",
        "            if len(train) > len(test):\n",
        "                test_2 = np.pad(test, (np.abs((0, diff)), (0, 0)), 'constant')\n",
        "                train_2 = train.copy()\n",
        "            elif len(train) <= len(test):\n",
        "                train_2= np.pad(train, (np.abs((0, diff)), (0, 0)), 'constant')\n",
        "                test_2 = test.copy()\n",
        "                \n",
        "            # Euclidean Distance\n",
        "            eud = dfre.euclideanDist(train_2,test_2) \n",
        "            dist.append(eud)\n",
        "\n",
        "    # Get the min dist among the 5 distances between X_test and X_train (obtained after each full interaction)    \n",
        "    min_dist = np.min(np.asarray(dist).reshape((len(X_test),len(X_train))), axis=1) \n",
        "    # Return the value (in fractional seconds) of the sum of the system and user CPU time of the current process.\n",
        "    process_time = time.process_time() \n",
        "    print(f'Euclidean Distance: {process_time}')\n",
        "    \n",
        "    return normalisation(min_dist), process_time\n",
        "\n",
        "def frechet_distance(X_test, X_train):\n",
        "    dist = []\n",
        "    for test in X_test:\n",
        "        for train in X_train:\n",
        "          # choosing random points from the signature to avoid too big signatures (avoids strange error later)\n",
        "\n",
        "          length = test.shape[0] \n",
        "          idx = np.random.randint(0, length, 150)\n",
        "\n",
        "#             Frechet\n",
        "          frechet = dfre.frechet(train,test[idx,:])\n",
        "          dist.append(frechet)\n",
        "            \n",
        "    # Get the min dist among the 5 distances between X_test and X_train (obtained after each full interaction)    \n",
        "    min_dist = np.min(np.asarray(dist).reshape((len(X_test),len(X_train))), axis=1)\n",
        "    process_time = time.process_time() # Return the value (in fractional seconds) of the sum of the system and user CPU time of the current process.\n",
        "    print(f'Frechet Distance: {process_time}')\n",
        "    return normalisation(min_dist), process_time\n",
        "\n",
        "def dtw_distance(X_test, X_train):\n",
        "    dist = []\n",
        "    for test in X_test:\n",
        "        for train in X_train:\n",
        "            dtw_dist = dtw.dtw(test, train)\n",
        "            dist.append(dtw_dist.normalizedDistance)\n",
        "            \n",
        "    # Get the min dist among the 5 distances between X_test and X_train (obtained after each full interaction)    \n",
        "    min_dist = np.min(np.asarray(dist).reshape((len(X_test),len(X_train))), axis=1)\n",
        "    process_time = time.process_time() # Return the value (in fractional seconds) of the sum of the system and user CPU time of the current process.\n",
        "    print(f'DTW: {process_time}')\n",
        "    return min_dist, process_time"
      ]
    },
    {
      "cell_type": "markdown",
      "metadata": {
        "id": "7rUimVcmitoy"
      },
      "source": [
        "##### **Accuracy Metrics and Processing time**\n",
        "\n",
        "A KNN-3 classifier was used to classify the dataset. Three accuracy measures were used to compute the accuracy of each classifier: Area Under the ROC Curve (AUC), the Average Precision (AP) and the Equal Error Rate (EER). Area Under the ROC Curve plots the True Positive Rate vs the False Positive Rate. It can be seen as the probability that the model ranks a random positive example more highly than a random negative example. The greater the AUC the better your model is at making predictions. Equal Error Rate (EER) indicates where FPR is equal to FNR, the smaller the better.\n",
        "\n",
        "Overall, DTW and Euclidean Distance had similar results for both AUC and EER score. However, the Euclidean method had better results when computing the accuracy score. Frechet distance experienced the worst performance among the classifiers in all the measured metrics.\n",
        "\n",
        "Processing time was computed using the time.process_time() function of the python package time (Return the value (in fractional seconds) of the sum of the system and user CPU time of the current process). Frechet’s distance takes about 5 times more processing time than Euclidean and DTW."
      ]
    },
    {
      "cell_type": "code",
      "execution_count": null,
      "metadata": {
        "colab": {
          "base_uri": "https://localhost:8080/"
        },
        "id": "9MtR-_uj051Z",
        "outputId": "1a92e741-8760-4426-9075-e892ecf69cac"
      },
      "outputs": [
        {
          "output_type": "stream",
          "name": "stdout",
          "text": [
            "DTW: 14.410604501\n",
            "Euclidean Distance: 14.534458186\n",
            "Frechet Distance: 418.980274883\n"
          ]
        }
      ],
      "source": [
        "# Computing distance and processing time for DTW, Euclidean Distance and Frechet\n",
        "# Single Dataset\n",
        "# dist_dtw, time_dtw = dtw_distance(X_test, X_train)\n",
        "# dist_euclidean, time_euclidean = euclidean_distance(X_test, X_train)\n",
        "# dist_frecht, time_frecht = frechet_distance(X_test, X_train)\n",
        "\n",
        "# 5 users Dataset \n",
        "dist_dtw, time_dtw = dtw_distance(X_test_c, X_train_c[:5])\n",
        "dist_euclidean, time_euclidean = euclidean_distance(X_test_c, X_train_c[:5])\n",
        "dist_frecht, time_frecht = frechet_distance(X_test_c, X_train_c[:5])"
      ]
    },
    {
      "cell_type": "code",
      "execution_count": null,
      "metadata": {
        "id": "yEKAQlnN051h"
      },
      "outputs": [],
      "source": [
        "dict_dist = {'distances':['DTW', 'Euclidean', 'Frechet'],\n",
        "             'processing_time': [time_dtw, time_euclidean, time_frecht]}\n",
        "\n",
        "distances = [dist_dtw, dist_euclidean, dist_frecht]\n",
        "\n",
        "avg_p = []\n",
        "eu_d = []\n",
        "\n",
        "avg_p_knn = []\n",
        "eu_d_knn = []\n",
        "\n",
        "pred_knn = []\n",
        "pred_proba_knn = []\n",
        "\n",
        "for i, dist in enumerate(distances):\n",
        "    # KNN\n",
        "    y_test_copy = y_test_c # Remember to change for the y of the whole dataset\n",
        "    X = dist.reshape(-1,1)\n",
        "    y_true = np.asarray(y_test_copy)\n",
        "    y = y_true.reshape(-1,1)\n",
        "\n",
        "    # Splitting \n",
        "    X_train_k, X_test_k, y_train_k, y_test_k = train_test_split(X, y, random_state=0, test_size=0.3)\n",
        "\n",
        "    # Fitting/Predicting\n",
        "    neigh = KNeighborsClassifier(n_neighbors=3).fit(X_train_k, y_train_k.ravel())\n",
        "    y_pred_knn = neigh.predict(X_test_k)\n",
        "    y_proba_knn = neigh.predict_proba(X_test_k)\n",
        "    \n",
        "    # Accuracy Scores \n",
        "    pred_knn.append(y_pred_knn)\n",
        "    pred_proba_knn.append(y_proba_knn)\n",
        "\n",
        "    roc_score_knn = roc_auc_score(y_pred_knn, y_test_k)\n",
        "    avg_prec_knn = average_precision_score(y_pred_knn, y_test_k)\n",
        "    \n",
        "    avg_p_knn.append(avg_prec_knn)\n",
        "    eu_d_knn.append(roc_score_knn)\n",
        "\n",
        "    # Save Accuracy scores\n",
        "    dict_dist.update(avg_precison_knn=avg_p_knn,\n",
        "                    roc_score_knn = eu_d_knn)"
      ]
    },
    {
      "cell_type": "code",
      "execution_count": null,
      "metadata": {
        "colab": {
          "base_uri": "https://localhost:8080/",
          "height": 307
        },
        "id": "5LQgToNbFf1-",
        "outputId": "f3feebbe-fa2d-4369-9b8e-c2b6370f9c9b"
      },
      "outputs": [
        {
          "output_type": "display_data",
          "data": {
            "image/png": "[encoded data removed]",
            "text/plain": [
              "<Figure size 432x288 with 1 Axes>"
            ]
          },
          "metadata": {
            "needs_background": "light"
          }
        }
      ],
      "source": [
        "# Plotting ROC Curve\n",
        "eer_all = []\n",
        "for i, pred_proba in enumerate(pred_proba_knn):\n",
        "  fpr, tpr, thresh = roc_curve(y_test_k, pred_proba[:,1], pos_label=1)\n",
        "\n",
        "  # Equal Error Rate\n",
        "  eer = brentq(lambda x : 1. - x - interp1d(fpr, tpr)(x), 0., 1.)\n",
        "  eer_all.append(eer)\n",
        "\n",
        "  # roc curve for tpr = fpr \n",
        "  random_probs = [0 for i in range(len(y_test_k))]\n",
        "  p_fpr, p_tpr, _ = roc_curve(y_test_k, random_probs, pos_label=1)\n",
        "\n",
        "  name = dict_dist['distances'][i]\n",
        "  plt.plot(fpr, tpr, linestyle='--',label= f'{name} - ROC score: {round(eu_d_knn[i],2)}')\n",
        "  plt.plot(p_fpr, p_tpr, color='red') # shows where the TPR = FPR\n",
        "  plt.xlabel('False Positive Rate\\n(Sensitivity)')\n",
        "  plt.ylabel('True Positive rate\\n(Specifity)')\n",
        "  plt.legend(loc='best')\n",
        "  plt.title('ROC curve - KNN')"
      ]
    },
    {
      "cell_type": "code",
      "execution_count": null,
      "metadata": {
        "colab": {
          "base_uri": "https://localhost:8080/",
          "height": 143
        },
        "id": "DwZJejqV051h",
        "outputId": "c0e3acbd-ac72-4f5b-ef62-3b6473763956"
      },
      "outputs": [
        {
          "output_type": "execute_result",
          "data": {
            "text/html": [
              "<div>\n",
              "<style scoped>\n",
              "    .dataframe tbody tr th:only-of-type {\n",
              "        vertical-align: middle;\n",
              "    }\n",
              "\n",
              "    .dataframe tbody tr th {\n",
              "        vertical-align: top;\n",
              "    }\n",
              "\n",
              "    .dataframe thead th {\n",
              "        text-align: right;\n",
              "    }\n",
              "</style>\n",
              "<table border=\"1\" class=\"dataframe\">\n",
              "  <thead>\n",
              "    <tr style=\"text-align: right;\">\n",
              "      <th></th>\n",
              "      <th>distances</th>\n",
              "      <th>processing_time</th>\n",
              "      <th>avg_precison_knn</th>\n",
              "      <th>roc_score_knn</th>\n",
              "      <th>eer_score</th>\n",
              "    </tr>\n",
              "  </thead>\n",
              "  <tbody>\n",
              "    <tr>\n",
              "      <th>0</th>\n",
              "      <td>DTW</td>\n",
              "      <td>14.410605</td>\n",
              "      <td>0.342105</td>\n",
              "      <td>0.713491</td>\n",
              "      <td>0.358859</td>\n",
              "    </tr>\n",
              "    <tr>\n",
              "      <th>1</th>\n",
              "      <td>Euclidean</td>\n",
              "      <td>14.534458</td>\n",
              "      <td>0.435043</td>\n",
              "      <td>0.705529</td>\n",
              "      <td>0.344262</td>\n",
              "    </tr>\n",
              "    <tr>\n",
              "      <th>2</th>\n",
              "      <td>Frechet</td>\n",
              "      <td>418.980275</td>\n",
              "      <td>0.292929</td>\n",
              "      <td>0.596257</td>\n",
              "      <td>0.456019</td>\n",
              "    </tr>\n",
              "  </tbody>\n",
              "</table>\n",
              "</div>"
            ],
            "text/plain": [
              "   distances  processing_time  avg_precison_knn  roc_score_knn  eer_score\n",
              "0        DTW        14.410605          0.342105       0.713491   0.358859\n",
              "1  Euclidean        14.534458          0.435043       0.705529   0.344262\n",
              "2    Frechet       418.980275          0.292929       0.596257   0.456019"
            ]
          },
          "metadata": {},
          "execution_count": 47
        }
      ],
      "source": [
        "dict_dist.update(eer_score = eer_all)\n",
        "df = pd.DataFrame(dict_dist)\n",
        "df"
      ]
    },
    {
      "cell_type": "code",
      "execution_count": null,
      "metadata": {
        "colab": {
          "base_uri": "https://localhost:8080/",
          "height": 404
        },
        "id": "veyBKCAF051i",
        "outputId": "2dc278ec-52b1-4299-9ef4-28f3c4ece323"
      },
      "outputs": [
        {
          "output_type": "display_data",
          "data": {
            "image/png": "[encoded data removed]",
            "text/plain": [
              "<Figure size 1080x432 with 2 Axes>"
            ]
          },
          "metadata": {
            "needs_background": "light"
          }
        }
      ],
      "source": [
        "figure, axes = plt.subplots(1, 2, figsize=(15,6))\n",
        "\n",
        "df.plot.barh(y='processing_time', x='distances', legend=False, color=['#7189C5','#254BAC'], ax=axes[0])\n",
        "\n",
        "for y, x in enumerate(round(df.processing_time, 2)):\n",
        "    axes[0].annotate(str(x), xy=(x, y), ha='right', color='w')\n",
        "axes[0].set_title('Processing Time (CPU time)')\n",
        "\n",
        "df.plot.bar(y=['avg_precison_knn','roc_score_knn', 'eer_score'], x='distances',cmap='Set3',ax=axes[1])\n",
        "axes[1].set_title('Accuracies')\n",
        "axes[1]\n",
        "plt.xticks(rotation=0)\n",
        "plt.show()"
      ]
    },
    {
      "cell_type": "markdown",
      "metadata": {
        "id": "o8yuYqjG051i"
      },
      "source": [
        "## Question 3 - Implement a cross-validation procedure to tune the meta parameter σ defined in KDTW\n"
      ]
    },
    {
      "cell_type": "markdown",
      "metadata": {
        "id": "MXRcAa8g1F86"
      },
      "source": [
        " \n",
        "##### **Use the first USER (first task) to ’optimize’ this parameters, and test KDTW with this fixed setting following the procedure setup for Question 1 (provide the mean and standard deviation for the 3 evaluation measures calculated on the 82 remaining tasks).**\n",
        "\n",
        "KDTW is derived from DTW while ensuring the property that KDTW(.,.) is a positive definite kernel (@pfmarteau). It has a smoothing parameter sigma, responsible to scale the local distances computations. \n",
        "k(x,y) = 1/3.(exp{-d²(x,y)/sigma}+epsilon)/(1+epsilon)\n",
        "A K-Fold cross validation procedure was set to estimate the best sigma values. I had some issues while computing KDTW, regarding the sigmas and the signatures size. In regard to the sigmas, setting small sigmas returned values equal or too close to 0, which then later resulted in few strange errors. I therefore used high sigmas values, resulting in a broader smoothing effect .  In regard to the signature size, some signatures, specially the forged ones, have considerably more data points than genuine signatures. When using the complete size of the signature, I got few out of bounds errors, related to the distance computation. In order to solve this problem, I random sample 150 points from both the train and test dataset.\n",
        "After running the cross validation of the sigma hyperparameter, the mean was calculated for each of the 5 folders. Sigma = 100 experienced the best results.\n",
        "\n",
        "KFold implementation follows: https://towardsdatascience.com/complete-guide-to-pythons-cross-validation-with-examples-a9676b5cac12"
      ]
    },
    {
      "cell_type": "code",
      "execution_count": null,
      "metadata": {
        "id": "j4rQDA7H051j"
      },
      "outputs": [],
      "source": [
        "from sklearn.model_selection import KFold\n",
        "from sklearn.utils import shuffle\n",
        "import kdtw_cdist\n",
        "import kdtw"
      ]
    },
    {
      "cell_type": "code",
      "execution_count": null,
      "metadata": {
        "id": "pExA3RkEISE_"
      },
      "outputs": [],
      "source": [
        "?kdtw"
      ]
    },
    {
      "cell_type": "code",
      "execution_count": null,
      "metadata": {
        "id": "ul6qcuMF051j"
      },
      "outputs": [],
      "source": [
        "# KDTW\n",
        "def kdtw_(X_test, X_train, sigma):\n",
        "  dist = [] \n",
        "  for test in X_test: \n",
        "      for train in X_train:\n",
        "          # choosing random points from the signature to avoid too big signatures (avoids strange error later)\n",
        "          length = test.shape[0] \n",
        "          idx = np.random.randint(0, length, 150)\n",
        "\n",
        "          kdtw_bol = kdtw.kdtw(test[idx,:], train, sigma)\n",
        "          \n",
        "          dist.append(kdtw_bol)\n",
        "            \n",
        "  # # Get the min dist among the 5 distances between X_test and X_train (obtained after each full interaction) \n",
        "  min_dist = np.min(np.asarray(dist).reshape((len(X_test),len(X_train))), axis=1)\n",
        "  process_time = time.process_time() # Return the value (in fractional seconds) of the sum of the system and user CPU time of the current process.\n",
        "  # print(f'CPU Time: {process_time}')\n",
        "  \n",
        "  return min_dist, process_time"
      ]
    },
    {
      "cell_type": "code",
      "execution_count": null,
      "metadata": {
        "colab": {
          "base_uri": "https://localhost:8080/"
        },
        "id": "uBY8tsN9686A",
        "outputId": "a5f77a08-a629-44ad-a7e8-5ba5acd051e5"
      },
      "outputs": [
        {
          "output_type": "stream",
          "name": "stdout",
          "text": [
            "X_train shape:  (5,) \n",
            "X_test shape (60,) \n",
            "y_test shape: (60,)\n",
            "sigmas: [  1.    25.75  50.5   75.25 100.  ]\n"
          ]
        },
        {
          "output_type": "stream",
          "name": "stderr",
          "text": [
            "/usr/local/lib/python3.7/dist-packages/ipykernel_launcher.py:197: VisibleDeprecationWarning: Creating an ndarray from ragged nested sequences (which is a list-or-tuple of lists-or-tuples-or ndarrays with different lengths or shapes) is deprecated. If you meant to do this, you must specify 'dtype=object' when creating the ndarray\n"
          ]
        }
      ],
      "source": [
        "# Sigma Optimization\n",
        "X_train, X_test, y_test = loadTrainQuestionnedMOBISIG(luid[0], ntrain=5, path=path)\n",
        "X_test, y_test = shuffle(X_test, y_test, random_state=42)\n",
        "\n",
        "y_test = np.asarray(y_test)\n",
        "\n",
        "# Hyperparameter to optmize\n",
        "sigmas = np.linspace(1, 100, 5)\n",
        "\n",
        "# Spliting the data into n folds\n",
        "kf = KFold(n_splits=5, shuffle=True) \n",
        "\n",
        "print('X_train shape: ', X_train.shape, '\\nX_test shape', X_test.shape, '\\ny_test shape:', y_test.shape)\n",
        "print('sigmas:', sigmas)"
      ]
    },
    {
      "cell_type": "code",
      "execution_count": null,
      "metadata": {
        "colab": {
          "base_uri": "https://localhost:8080/"
        },
        "id": "U9IntHOi2QfN",
        "outputId": "cdb065f7-710e-46c2-ece1-3c629825a5ea"
      },
      "outputs": [
        {
          "output_type": "stream",
          "name": "stdout",
          "text": [
            "{1.0: 0.6666666666666666}\n",
            "{1.0: 0.6666666666666666, 25.75: 0.6666666666666666}\n",
            "{1.0: 0.6666666666666666, 25.75: 0.6666666666666666, 50.5: 0.5}\n",
            "{1.0: 0.6666666666666666, 25.75: 0.6666666666666666, 50.5: 0.5, 75.25: 0.75}\n",
            "{1.0: 0.6666666666666666, 25.75: 0.6666666666666666, 50.5: 0.5, 75.25: 0.75, 100.0: 0.75}\n",
            "{1.0: 0.5833333333333334, 25.75: 0.6666666666666666, 50.5: 0.5, 75.25: 0.75, 100.0: 0.75}\n",
            "{1.0: 0.5833333333333334, 25.75: 0.75, 50.5: 0.5, 75.25: 0.75, 100.0: 0.75}\n",
            "{1.0: 0.5833333333333334, 25.75: 0.75, 50.5: 0.5833333333333334, 75.25: 0.75, 100.0: 0.75}\n",
            "{1.0: 0.5833333333333334, 25.75: 0.75, 50.5: 0.5833333333333334, 75.25: 0.4166666666666667, 100.0: 0.75}\n",
            "{1.0: 0.5833333333333334, 25.75: 0.75, 50.5: 0.5833333333333334, 75.25: 0.4166666666666667, 100.0: 0.75}\n",
            "{1.0: 0.5833333333333334, 25.75: 0.75, 50.5: 0.5833333333333334, 75.25: 0.4166666666666667, 100.0: 0.75}\n",
            "{1.0: 0.5833333333333334, 25.75: 0.5833333333333334, 50.5: 0.5833333333333334, 75.25: 0.4166666666666667, 100.0: 0.75}\n",
            "{1.0: 0.5833333333333334, 25.75: 0.5833333333333334, 50.5: 0.5833333333333334, 75.25: 0.4166666666666667, 100.0: 0.75}\n",
            "{1.0: 0.5833333333333334, 25.75: 0.5833333333333334, 50.5: 0.5833333333333334, 75.25: 0.5, 100.0: 0.75}\n",
            "{1.0: 0.5833333333333334, 25.75: 0.5833333333333334, 50.5: 0.5833333333333334, 75.25: 0.5, 100.0: 0.75}\n",
            "{1.0: 0.75, 25.75: 0.5833333333333334, 50.5: 0.5833333333333334, 75.25: 0.5, 100.0: 0.75}\n",
            "{1.0: 0.75, 25.75: 0.5, 50.5: 0.5833333333333334, 75.25: 0.5, 100.0: 0.75}\n",
            "{1.0: 0.75, 25.75: 0.5, 50.5: 0.4166666666666667, 75.25: 0.5, 100.0: 0.75}\n",
            "{1.0: 0.75, 25.75: 0.5, 50.5: 0.4166666666666667, 75.25: 0.5833333333333334, 100.0: 0.75}\n",
            "{1.0: 0.75, 25.75: 0.5, 50.5: 0.4166666666666667, 75.25: 0.5833333333333334, 100.0: 0.9166666666666666}\n",
            "{1.0: 0.75, 25.75: 0.5, 50.5: 0.4166666666666667, 75.25: 0.5833333333333334, 100.0: 0.9166666666666666}\n",
            "{1.0: 0.75, 25.75: 0.8333333333333334, 50.5: 0.4166666666666667, 75.25: 0.5833333333333334, 100.0: 0.9166666666666666}\n",
            "{1.0: 0.75, 25.75: 0.8333333333333334, 50.5: 0.6666666666666666, 75.25: 0.5833333333333334, 100.0: 0.9166666666666666}\n",
            "{1.0: 0.75, 25.75: 0.8333333333333334, 50.5: 0.6666666666666666, 75.25: 0.5, 100.0: 0.9166666666666666}\n",
            "{1.0: 0.75, 25.75: 0.8333333333333334, 50.5: 0.6666666666666666, 75.25: 0.5, 100.0: 0.75}\n"
          ]
        }
      ],
      "source": [
        "# Cross Validation *-- Takes about 2 hours to run\n",
        "byfold_output=[]\n",
        "final_scores = {}\n",
        "\n",
        "for train_idx, test_idx in kf.split(y_test): \n",
        "  # train set\n",
        "  xtrain, ytrain = X_test[train_idx], y_test[train_idx]  \n",
        "  # validation set\n",
        "  xtest, ytest = X_test[test_idx], y_test[test_idx]\n",
        "\n",
        "  # Sigma Optmization\n",
        "  for sig in sigmas:\n",
        "    train_kdtw,_ = kdtw_(xtrain, X_train, sigma=sig) # X_test = xtrain\n",
        "    test_kdtw,_ =  kdtw_(xtest, X_train, sigma=sig) # X_test = xtest\n",
        "    # print(f'\\nCalculating distances for sigma = {sig}')\n",
        "\n",
        "    # Fitting/Evaluating\n",
        "    neigh = KNeighborsClassifier(n_neighbors=3).fit(train_kdtw.reshape(-1,1), ytrain)\n",
        "    acc = neigh.score(test_kdtw.reshape(-1,1), ytest)\n",
        "    # print(f'Model evaluation for sigma = {sig}')\n",
        "\n",
        "    # Accuracy Scores\n",
        "    final_scores.update({sig:acc})\n",
        "    print(final_scores)\n",
        "  byfold_output.append(final_scores.copy())"
      ]
    },
    {
      "cell_type": "code",
      "execution_count": null,
      "metadata": {
        "colab": {
          "base_uri": "https://localhost:8080/"
        },
        "id": "lRfEX03mtYPA",
        "outputId": "e0fb7e41-480e-415f-e9bd-4b265a0c329a"
      },
      "outputs": [
        {
          "output_type": "execute_result",
          "data": {
            "text/plain": [
              "{1.0: 0.6666666666666667,\n",
              " 25.75: 0.6666666666666667,\n",
              " 50.5: 0.55,\n",
              " 75.25: 0.55,\n",
              " 100.0: 0.7833333333333333}"
            ]
          },
          "metadata": {},
          "execution_count": 23
        }
      ],
      "source": [
        "# Compute the mean\n",
        "best_acc = {sigma:np.mean([kfold[sigma] for kfold in byfold_output]) for sigma in sigmas}\n",
        "best_acc "
      ]
    },
    {
      "cell_type": "code",
      "execution_count": null,
      "metadata": {
        "id": "RPhl2Mk4sXUS"
      },
      "outputs": [],
      "source": [
        "# Compute KDTW with the best sigma\n",
        "dist_kdtw = kdtw_(X_test_c,X_train_c[:5], sigma=best_acc[100.0]) # X_test = xtrain"
      ]
    },
    {
      "cell_type": "code",
      "execution_count": null,
      "metadata": {
        "id": "iYBD9Se16o5h",
        "colab": {
          "base_uri": "https://localhost:8080/"
        },
        "outputId": "52c3f803-ca0b-4cfc-807a-7ca6720da883"
      },
      "outputs": [
        {
          "output_type": "stream",
          "name": "stderr",
          "text": [
            "/usr/local/lib/python3.7/dist-packages/sklearn/neighbors/_classification.py:198: DataConversionWarning: A column-vector y was passed when a 1d array was expected. Please change the shape of y to (n_samples,), for example using ravel().\n",
            "  return self._fit(X, y)\n"
          ]
        }
      ],
      "source": [
        "# KNN\n",
        "X = dist_kdtw[0].reshape(-1,1)\n",
        "y = y_test_c.reshape(-1,1)\n",
        "\n",
        "# Splitting intro Train and Test\n",
        "X_train_kdtw, X_test_kdtw, y_train_kdtw, y_test_kdtw = train_test_split(X, y, random_state=0, test_size=0.3)\n",
        "\n",
        "# Fitting/Predicting\n",
        "neigh_kdtw = KNeighborsClassifier(n_neighbors=3).fit(X_train_kdtw, y_train_kdtw)\n",
        "y_pred_kdtw = neigh_kdtw.predict(X_test_kdtw)\n",
        "y_proba_kdtw = neigh_kdtw.predict_proba(X_test_kdtw)\n",
        "score = neigh_kdtw.score(X_test_kdtw,y_test_kdtw)\n",
        "# Accuracy Scores \n",
        "# roc_score_kdtw = roc_auc_score(y_pred_kdtw , y_test_kdtw) # not possible to calculate roc score because only one class was classified\n",
        "avg_prec_kdtw = average_precision_score(y_pred_kdtw , y_test_kdtw)"
      ]
    },
    {
      "cell_type": "code",
      "execution_count": null,
      "metadata": {
        "id": "UQmJr-267TJV"
      },
      "outputs": [],
      "source": [
        "# Plotting ROC Curve\n",
        "fpr, tpr, thresh = roc_curve(y_test_kdtw, y_proba_kdtw [:,1], pos_label=1)\n",
        "# Equal Error Rate\n",
        "eer_kdtw = brentq(lambda x : 1. - x - interp1d(fpr, tpr)(x), 0., 1.)\n",
        "\n",
        "# roc curve for tpr = fpr \n",
        "random_probs = [0 for i in range(len(y_test_kdtw))]\n",
        "p_fpr, p_tpr, _ = roc_curve(y_test_kdtw, random_probs, pos_label=1)"
      ]
    },
    {
      "cell_type": "code",
      "execution_count": null,
      "metadata": {
        "id": "XNd-CxWF6l66"
      },
      "outputs": [],
      "source": [
        "df_kdtw=pd.DataFrame({'avg_precison_knn': score, 'distances':'KDTW', \n",
        "                      'processing_time': dist_kdtw[1], 'eer_score':eer_kdtw}, index=[3])"
      ]
    },
    {
      "cell_type": "code",
      "execution_count": null,
      "metadata": {
        "id": "6kbzf4eA54WY",
        "colab": {
          "base_uri": "https://localhost:8080/",
          "height": 175
        },
        "outputId": "7966ae5d-fe68-4495-c18e-c5f98fab579d"
      },
      "outputs": [
        {
          "output_type": "execute_result",
          "data": {
            "text/html": [
              "<div>\n",
              "<style scoped>\n",
              "    .dataframe tbody tr th:only-of-type {\n",
              "        vertical-align: middle;\n",
              "    }\n",
              "\n",
              "    .dataframe tbody tr th {\n",
              "        vertical-align: top;\n",
              "    }\n",
              "\n",
              "    .dataframe thead th {\n",
              "        text-align: right;\n",
              "    }\n",
              "</style>\n",
              "<table border=\"1\" class=\"dataframe\">\n",
              "  <thead>\n",
              "    <tr style=\"text-align: right;\">\n",
              "      <th></th>\n",
              "      <th>avg_precison_knn</th>\n",
              "      <th>distances</th>\n",
              "      <th>processing_time</th>\n",
              "      <th>eer_score</th>\n",
              "      <th>roc_score_knn</th>\n",
              "    </tr>\n",
              "  </thead>\n",
              "  <tbody>\n",
              "    <tr>\n",
              "      <th>3</th>\n",
              "      <td>0.400000</td>\n",
              "      <td>KDTW</td>\n",
              "      <td>3448.780356</td>\n",
              "      <td>0.500000</td>\n",
              "      <td>NaN</td>\n",
              "    </tr>\n",
              "    <tr>\n",
              "      <th>0</th>\n",
              "      <td>0.342105</td>\n",
              "      <td>DTW</td>\n",
              "      <td>14.410605</td>\n",
              "      <td>0.358859</td>\n",
              "      <td>0.713491</td>\n",
              "    </tr>\n",
              "    <tr>\n",
              "      <th>1</th>\n",
              "      <td>0.435043</td>\n",
              "      <td>Euclidean</td>\n",
              "      <td>14.534458</td>\n",
              "      <td>0.344262</td>\n",
              "      <td>0.705529</td>\n",
              "    </tr>\n",
              "    <tr>\n",
              "      <th>2</th>\n",
              "      <td>0.292929</td>\n",
              "      <td>Frechet</td>\n",
              "      <td>418.980275</td>\n",
              "      <td>0.456019</td>\n",
              "      <td>0.596257</td>\n",
              "    </tr>\n",
              "  </tbody>\n",
              "</table>\n",
              "</div>"
            ],
            "text/plain": [
              "   avg_precison_knn  distances  processing_time  eer_score  roc_score_knn\n",
              "3          0.400000       KDTW      3448.780356   0.500000            NaN\n",
              "0          0.342105        DTW        14.410605   0.358859       0.713491\n",
              "1          0.435043  Euclidean        14.534458   0.344262       0.705529\n",
              "2          0.292929    Frechet       418.980275   0.456019       0.596257"
            ]
          },
          "metadata": {},
          "execution_count": 41
        }
      ],
      "source": [
        "final_df = pd.concat([df_kdtw,df])\n",
        "final_df"
      ]
    },
    {
      "cell_type": "markdown",
      "metadata": {
        "id": "8O1ETIkfs4pA"
      },
      "source": [
        "### Question 4 - Critical Difference Diagrams\n",
        "\n",
        "Using the (Method v.s. TaskID) matrices, and the Critical Difference Diagrams package (Friedman’s test followed by a post-hoc analysis based on the Wilcoxon-Holm method) https://github.com/hfawaz/cd-diagram, rank the four tested classifiers according to the Friedman’s tests and Nemenyi’s post-hoc test on the basis of the 82 classification tasks (without exploiting USER 1).\n"
      ]
    },
    {
      "cell_type": "code",
      "execution_count": null,
      "metadata": {
        "id": "OKy8uMYxtYI_"
      },
      "outputs": [],
      "source": [
        "from main import * # Critical Difference Diagrams\n",
        "?draw_cd_diagram"
      ]
    },
    {
      "cell_type": "markdown",
      "metadata": {
        "id": "_CssayWdWYlq"
      },
      "source": [
        "##### Critical Difference Diagrams package (Friedman’s test followed by a post-hoc analysis based on the Wilcoxon-Holm method) https://github.com/hfawaz/cd-diagram"
      ]
    },
    {
      "cell_type": "code",
      "execution_count": null,
      "metadata": {
        "id": "ynBO-AjA8xpL"
      },
      "outputs": [],
      "source": [
        "import numpy as np\n",
        "import pandas as pd\n",
        "import matplotlib\n",
        "\n",
        "matplotlib.use('agg')\n",
        "import matplotlib.pyplot as plt\n",
        "\n",
        "matplotlib.rcParams['font.family'] = 'sans-serif'\n",
        "matplotlib.rcParams['font.sans-serif'] = 'Arial'\n",
        "\n",
        "import operator\n",
        "import math\n",
        "from scipy.stats import wilcoxon\n",
        "from scipy.stats import friedmanchisquare\n",
        "import networkx\n",
        "\n",
        "# inspired from orange3 https://docs.orange.biolab.si/3/data-mining-library/reference/evaluation.cd.html\n",
        "def graph_ranks(avranks, names, p_values, cd=None, cdmethod=None, lowv=None, highv=None,\n",
        "                width=6, textspace=1, reverse=False, filename=None, labels=False, **kwargs):\n",
        "    \"\"\"\n",
        "    Draws a CD graph, which is used to display  the differences in methods'\n",
        "    performance. See Janez Demsar, Statistical Comparisons of Classifiers over\n",
        "    Multiple Data Sets, 7(Jan):1--30, 2006.\n",
        "    Needs matplotlib to work.\n",
        "    The image is ploted on `plt` imported using\n",
        "    `import matplotlib.pyplot as plt`.\n",
        "    Args:\n",
        "        avranks (list of float): average ranks of methods.\n",
        "        names (list of str): names of methods.\n",
        "        cd (float): Critical difference used for statistically significance of\n",
        "            difference between methods.\n",
        "        cdmethod (int, optional): the method that is compared with other methods\n",
        "            If omitted, show pairwise comparison of methods\n",
        "        lowv (int, optional): the lowest shown rank\n",
        "        highv (int, optional): the highest shown rank\n",
        "        width (int, optional): default width in inches (default: 6)\n",
        "        textspace (int, optional): space on figure sides (in inches) for the\n",
        "            method names (default: 1)\n",
        "        reverse (bool, optional):  if set to `True`, the lowest rank is on the\n",
        "            right (default: `False`)\n",
        "        filename (str, optional): output file name (with extension). If not\n",
        "            given, the function does not write a file.\n",
        "        labels (bool, optional): if set to `True`, the calculated avg rank\n",
        "        values will be displayed\n",
        "    \"\"\"\n",
        "    try:\n",
        "        import matplotlib\n",
        "        import matplotlib.pyplot as plt\n",
        "        from matplotlib.backends.backend_agg import FigureCanvasAgg\n",
        "    except ImportError:\n",
        "        raise ImportError(\"Function graph_ranks requires matplotlib.\")\n",
        "\n",
        "    width = float(width)\n",
        "    textspace = float(textspace)\n",
        "\n",
        "    def nth(l, n):\n",
        "        \"\"\"\n",
        "        Returns only nth elemnt in a list.\n",
        "        \"\"\"\n",
        "        n = lloc(l, n)\n",
        "        return [a[n] for a in l]\n",
        "\n",
        "    def lloc(l, n):\n",
        "        \"\"\"\n",
        "        List location in list of list structure.\n",
        "        Enable the use of negative locations:\n",
        "        -1 is the last element, -2 second last...\n",
        "        \"\"\"\n",
        "        if n < 0:\n",
        "            return len(l[0]) + n\n",
        "        else:\n",
        "            return n\n",
        "\n",
        "    def mxrange(lr):\n",
        "        \"\"\"\n",
        "        Multiple xranges. Can be used to traverse matrices.\n",
        "        This function is very slow due to unknown number of\n",
        "        parameters.\n",
        "        >>> mxrange([3,5])\n",
        "        [(0, 0), (0, 1), (0, 2), (1, 0), (1, 1), (1, 2)]\n",
        "        >>> mxrange([[3,5,1],[9,0,-3]])\n",
        "        [(3, 9), (3, 6), (3, 3), (4, 9), (4, 6), (4, 3)]\n",
        "        \"\"\"\n",
        "        if not len(lr):\n",
        "            yield ()\n",
        "        else:\n",
        "            # it can work with single numbers\n",
        "            index = lr[0]\n",
        "            if isinstance(index, int):\n",
        "                index = [index]\n",
        "            for a in range(*index):\n",
        "                for b in mxrange(lr[1:]):\n",
        "                    yield tuple([a] + list(b))\n",
        "\n",
        "    def print_figure(fig, *args, **kwargs):\n",
        "        canvas = FigureCanvasAgg(fig)\n",
        "        canvas.print_figure(*args, **kwargs)\n",
        "\n",
        "    sums = avranks\n",
        "\n",
        "    nnames = names\n",
        "    ssums = sums\n",
        "\n",
        "    if lowv is None:\n",
        "        lowv = min(1, int(math.floor(min(ssums))))\n",
        "    if highv is None:\n",
        "        highv = max(len(avranks), int(math.ceil(max(ssums))))\n",
        "\n",
        "    cline = 0.4\n",
        "\n",
        "    k = len(sums)\n",
        "\n",
        "    lines = None\n",
        "\n",
        "    linesblank = 0\n",
        "    scalewidth = width - 2 * textspace\n",
        "\n",
        "    def rankpos(rank):\n",
        "        if not reverse:\n",
        "            a = rank - lowv\n",
        "        else:\n",
        "            a = highv - rank\n",
        "        return textspace + scalewidth / (highv - lowv) * a\n",
        "\n",
        "    distanceh = 0.25\n",
        "\n",
        "    cline += distanceh\n",
        "\n",
        "    # calculate height needed height of an image\n",
        "    minnotsignificant = max(2 * 0.2, linesblank)\n",
        "    height = cline + ((k + 1) / 2) * 0.2 + minnotsignificant\n",
        "\n",
        "    fig = plt.figure(figsize=(width, height))\n",
        "    fig.set_facecolor('white')\n",
        "    ax = fig.add_axes([0, 0, 1, 1])  # reverse y axis\n",
        "    ax.set_axis_off()\n",
        "\n",
        "    hf = 1. / height  # height factor\n",
        "    wf = 1. / width\n",
        "\n",
        "    def hfl(l):\n",
        "        return [a * hf for a in l]\n",
        "\n",
        "    def wfl(l):\n",
        "        return [a * wf for a in l]\n",
        "\n",
        "    # Upper left corner is (0,0).\n",
        "    ax.plot([0, 1], [0, 1], c=\"w\")\n",
        "    ax.set_xlim(0, 1)\n",
        "    ax.set_ylim(1, 0)\n",
        "\n",
        "    def line(l, color='k', **kwargs):\n",
        "        \"\"\"\n",
        "        Input is a list of pairs of points.\n",
        "        \"\"\"\n",
        "        ax.plot(wfl(nth(l, 0)), hfl(nth(l, 1)), color=color, **kwargs)\n",
        "\n",
        "    def text(x, y, s, *args, **kwargs):\n",
        "        ax.text(wf * x, hf * y, s, *args, **kwargs)\n",
        "\n",
        "    line([(textspace, cline), (width - textspace, cline)], linewidth=2)\n",
        "\n",
        "    bigtick = 0.3\n",
        "    smalltick = 0.15\n",
        "    linewidth = 2.0\n",
        "    linewidth_sign = 4.0\n",
        "\n",
        "    tick = None\n",
        "    for a in list(np.arange(lowv, highv, 0.5)) + [highv]:\n",
        "        tick = smalltick\n",
        "        if a == int(a):\n",
        "            tick = bigtick\n",
        "        line([(rankpos(a), cline - tick / 2),\n",
        "              (rankpos(a), cline)],\n",
        "             linewidth=2)\n",
        "\n",
        "    for a in range(lowv, highv + 1):\n",
        "        text(rankpos(a), cline - tick / 2 - 0.05, str(a),\n",
        "             ha=\"center\", va=\"bottom\", size=16)\n",
        "\n",
        "    k = len(ssums)\n",
        "\n",
        "    def filter_names(name):\n",
        "        return name\n",
        "\n",
        "    space_between_names = 0.24\n",
        "\n",
        "    for i in range(math.ceil(k / 2)):\n",
        "        chei = cline + minnotsignificant + i * space_between_names\n",
        "        line([(rankpos(ssums[i]), cline),\n",
        "              (rankpos(ssums[i]), chei),\n",
        "              (textspace - 0.1, chei)],\n",
        "             linewidth=linewidth)\n",
        "        if labels:\n",
        "            text(textspace + 0.3, chei - 0.075, format(ssums[i], '.4f'), ha=\"right\", va=\"center\", size=10)\n",
        "        text(textspace - 0.2, chei, filter_names(nnames[i]), ha=\"right\", va=\"center\", size=16)\n",
        "\n",
        "    for i in range(math.ceil(k / 2), k):\n",
        "        chei = cline + minnotsignificant + (k - i - 1) * space_between_names\n",
        "        line([(rankpos(ssums[i]), cline),\n",
        "              (rankpos(ssums[i]), chei),\n",
        "              (textspace + scalewidth + 0.1, chei)],\n",
        "             linewidth=linewidth)\n",
        "        if labels:\n",
        "            text(textspace + scalewidth - 0.3, chei - 0.075, format(ssums[i], '.4f'), ha=\"left\", va=\"center\", size=10)\n",
        "        text(textspace + scalewidth + 0.2, chei, filter_names(nnames[i]),\n",
        "             ha=\"left\", va=\"center\", size=16)\n",
        "\n",
        "    # no-significance lines\n",
        "    def draw_lines(lines, side=0.05, height=0.1):\n",
        "        start = cline + 0.2\n",
        "\n",
        "        for l, r in lines:\n",
        "            line([(rankpos(ssums[l]) - side, start),\n",
        "                  (rankpos(ssums[r]) + side, start)],\n",
        "                 linewidth=linewidth_sign)\n",
        "            start += height\n",
        "            # print('drawing: ', l, r)\n",
        "\n",
        "    # draw_lines(lines)\n",
        "    start = cline + 0.2\n",
        "    side = -0.02\n",
        "    height = 0.1\n",
        "\n",
        "    # draw no significant lines\n",
        "    # get the cliques\n",
        "    cliques = form_cliques(p_values, nnames)\n",
        "    i = 1\n",
        "    achieved_half = False\n",
        "    #print(nnames)\n",
        "    for clq in cliques:\n",
        "        if len(clq) == 1:\n",
        "            continue\n",
        "        #print(clq)\n",
        "        min_idx = np.array(clq).min()\n",
        "        max_idx = np.array(clq).max()\n",
        "        if min_idx >= len(nnames) / 2 and achieved_half == False:\n",
        "            start = cline + 0.25\n",
        "            achieved_half = True\n",
        "        line([(rankpos(ssums[min_idx]) - side, start),\n",
        "              (rankpos(ssums[max_idx]) + side, start)],\n",
        "             linewidth=linewidth_sign)\n",
        "        start += height\n",
        "\n",
        "\n",
        "def form_cliques(p_values, nnames):\n",
        "    \"\"\"\n",
        "    This method forms the cliques\n",
        "    \"\"\"\n",
        "    # first form the numpy matrix data\n",
        "    m = len(nnames)\n",
        "    g_data = np.zeros((m, m), dtype=np.int64)\n",
        "    for p in p_values:\n",
        "        if p[3] == False:\n",
        "            i = np.where(nnames == p[0])[0][0]\n",
        "            j = np.where(nnames == p[1])[0][0]\n",
        "            min_i = min(i, j)\n",
        "            max_j = max(i, j)\n",
        "            g_data[min_i, max_j] = 1\n",
        "\n",
        "    g = networkx.Graph(g_data)\n",
        "    return networkx.find_cliques(g)\n",
        "\n",
        "\n",
        "def draw_cd_diagram(df_perf=None, alpha=0.05, title=None, labels=False):\n",
        "    \"\"\"\n",
        "    Draws the critical difference diagram given the list of pairwise classifiers that are\n",
        "    significant or not\n",
        "    \"\"\"\n",
        "    p_values, average_ranks, _ = wilcoxon_holm(df_perf=df_perf, alpha=alpha)\n",
        "\n",
        "    # print(average_ranks)\n",
        "\n",
        "    # for p in p_values:\n",
        "    #    print(p)\n",
        "\n",
        "\n",
        "    graph_ranks(average_ranks.values, average_ranks.keys(), p_values,\n",
        "                cd=None, reverse=True, width=15, textspace=1.5, labels=labels)\n",
        "\n",
        "    font = {'family': 'sans-serif',\n",
        "        'color':  'black',\n",
        "        'weight': 'normal',\n",
        "        'size': 22,\n",
        "        }\n",
        "    if title:\n",
        "        plt.title(title,fontdict=font, y=0.9, x=0.5)\n",
        "    plt.savefig('cd-diagram.png',bbox_inches='tight')\n",
        "    plt.show()\n",
        "\n",
        "def wilcoxon_holm(alpha=0.05, df_perf=None):\n",
        "    \"\"\"\n",
        "    Applies the wilcoxon signed rank test between each pair of algorithm and then use Holm\n",
        "    to reject the null's hypothesis\n",
        "    \"\"\"\n",
        "    # print(pd.unique(df_perf['classifier_name']))\n",
        "    # count the number of tested datasets per classifier\n",
        "    df_counts = pd.DataFrame({'count': df_perf.groupby(\n",
        "        ['classifier_name']).size()}).reset_index()\n",
        "    # get the maximum number of tested datasets\n",
        "    max_nb_datasets = df_counts['count'].max()\n",
        "    # get the list of classifiers who have been tested on nb_max_datasets\n",
        "    classifiers = list(df_counts.loc[df_counts['count'] == max_nb_datasets]\n",
        "                       ['classifier_name'])\n",
        "    # test the null hypothesis using friedman before doing a post-hoc analysis\n",
        "    friedman_p_value = friedmanchisquare(*(\n",
        "        np.array(df_perf.loc[df_perf['classifier_name'] == c]['accuracy'])\n",
        "        for c in classifiers))[1]\n",
        "    if friedman_p_value >= alpha:\n",
        "        # then the null hypothesis over the entire classifiers cannot be rejected\n",
        "        print('the null hypothesis over the entire classifiers cannot be rejected')\n",
        "        exit()\n",
        "    # get the number of classifiers\n",
        "    m = len(classifiers)\n",
        "    # init array that contains the p-values calculated by the Wilcoxon signed rank test\n",
        "    p_values = []\n",
        "    # loop through the algorithms to compare pairwise\n",
        "    for i in range(m - 1):\n",
        "        # get the name of classifier one\n",
        "        classifier_1 = classifiers[i]\n",
        "        # get the performance of classifier one\n",
        "        perf_1 = np.array(df_perf.loc[df_perf['classifier_name'] == classifier_1]['accuracy']\n",
        "                          , dtype=np.float64)\n",
        "        for j in range(i + 1, m):\n",
        "            # get the name of the second classifier\n",
        "            classifier_2 = classifiers[j]\n",
        "            # get the performance of classifier one\n",
        "            perf_2 = np.array(df_perf.loc[df_perf['classifier_name'] == classifier_2]\n",
        "                              ['accuracy'], dtype=np.float64)\n",
        "            # calculate the p_value\n",
        "            p_value = wilcoxon(perf_1, perf_2, zero_method='pratt')[1]\n",
        "            # appen to the list\n",
        "            p_values.append((classifier_1, classifier_2, p_value, False))\n",
        "    # get the number of hypothesis\n",
        "    k = len(p_values)\n",
        "    # sort the list in acsending manner of p-value\n",
        "    p_values.sort(key=operator.itemgetter(2))\n",
        "\n",
        "    # loop through the hypothesis\n",
        "    for i in range(k):\n",
        "        # correct alpha with holm\n",
        "        new_alpha = float(alpha / (k - i))\n",
        "        # test if significant after holm's correction of alpha\n",
        "        if p_values[i][2] <= new_alpha:\n",
        "            p_values[i] = (p_values[i][0], p_values[i][1], p_values[i][2], True)\n",
        "        else:\n",
        "            # stop\n",
        "            break\n",
        "    # compute the average ranks to be returned (useful for drawing the cd diagram)\n",
        "    # sort the dataframe of performances\n",
        "    sorted_df_perf = df_perf.loc[df_perf['classifier_name'].isin(classifiers)]. \\\n",
        "        sort_values(['classifier_name', 'dataset_name'])\n",
        "    # get the rank data\n",
        "    rank_data = np.array(sorted_df_perf['accuracy']).reshape(m, max_nb_datasets)\n",
        "\n",
        "    # create the data frame containg the accuracies\n",
        "    df_ranks = pd.DataFrame(data=rank_data, index=np.sort(classifiers), columns=\n",
        "    np.unique(sorted_df_perf['dataset_name']))\n",
        "\n",
        "    # number of wins\n",
        "    dfff = df_ranks.rank(ascending=False)\n",
        "    #print(dfff[dfff == 1.0].sum(axis=1))\n",
        "\n",
        "    # average the ranks\n",
        "    average_ranks = df_ranks.rank(ascending=False).mean(axis=1).sort_values(ascending=False)\n",
        "    # return the p-values and the average ranks\n",
        "    return p_values, average_ranks, max_nb_datasets"
      ]
    },
    {
      "cell_type": "code",
      "execution_count": null,
      "metadata": {
        "id": "MZxSTlvU8u8O"
      },
      "outputs": [],
      "source": [
        ""
      ]
    },
    {
      "cell_type": "markdown",
      "metadata": {
        "id": "zrVjIIb1WmC3"
      },
      "source": [
        "##### Rank of the Classifiers (DTW, Euclidean, Frechet, KDTW)"
      ]
    },
    {
      "cell_type": "code",
      "execution_count": null,
      "metadata": {
        "id": "7RxZJbtftlxz"
      },
      "outputs": [],
      "source": [
        "# DF with accuracies\n",
        "roc_scores = final_df[\"roc_score_knn\"]\n",
        "method = final_df[\"distances\"]\n",
        "cdd = pd.DataFrame({\"classifier_name\": method, \"accuracy\":roc_scores})"
      ]
    },
    {
      "cell_type": "code",
      "execution_count": null,
      "metadata": {
        "id": "4G24m1_ZFOGt",
        "colab": {
          "base_uri": "https://localhost:8080/",
          "height": 383
        },
        "outputId": "ef2e9436-cf57-4624-df9c-0e8458db23a2"
      },
      "outputs": [
        {
          "output_type": "stream",
          "name": "stdout",
          "text": [
            "['KDTW' 'DTW' 'Euclidean' 'Frechet']\n",
            "the null hypothesis over the entire classifiers cannot be rejected\n"
          ]
        },
        {
          "output_type": "stream",
          "name": "stderr",
          "text": [
            "/usr/local/lib/python3.7/dist-packages/scipy/stats/morestats.py:2879: UserWarning: Sample size too small for normal approximation.\n",
            "  warnings.warn(\"Sample size too small for normal approximation.\")\n"
          ]
        },
        {
          "output_type": "error",
          "ename": "KeyError",
          "evalue": "ignored",
          "traceback": [
            "\u001b[0;31m---------------------------------------------------------------------------\u001b[0m",
            "\u001b[0;31mKeyError\u001b[0m                                  Traceback (most recent call last)",
            "\u001b[0;32m<ipython-input-31-1d74f08d7e15>\u001b[0m in \u001b[0;36m<module>\u001b[0;34m()\u001b[0m\n\u001b[0;32m----> 1\u001b[0;31m \u001b[0mdraw_cd_diagram\u001b[0m\u001b[0;34m(\u001b[0m\u001b[0mdf_perf\u001b[0m\u001b[0;34m=\u001b[0m\u001b[0mcdd\u001b[0m\u001b[0;34m,\u001b[0m \u001b[0mtitle\u001b[0m\u001b[0;34m=\u001b[0m\u001b[0;34m\"Roc Score\"\u001b[0m\u001b[0;34m,\u001b[0m \u001b[0mlabels\u001b[0m\u001b[0;34m=\u001b[0m\u001b[0;32mTrue\u001b[0m\u001b[0;34m)\u001b[0m \u001b[0;31m# should have computed cross - validation to all the classifiers to ave enough accuracies to compare\u001b[0m\u001b[0;34m\u001b[0m\u001b[0;34m\u001b[0m\u001b[0m\n\u001b[0m",
            "\u001b[0;32m/content/drive/MyDrive/vitoria.barbosa.ferreira@usp.br 2021-08-09 21:44/Master/Copernicus - 15 01/Classes/3 semester/Data Mining/Time_Elastic_Kernels/main.py\u001b[0m in \u001b[0;36mdraw_cd_diagram\u001b[0;34m(df_perf, alpha, title, labels)\u001b[0m\n\u001b[1;32m    283\u001b[0m     \u001b[0msignificant\u001b[0m \u001b[0;32mor\u001b[0m \u001b[0;32mnot\u001b[0m\u001b[0;34m\u001b[0m\u001b[0;34m\u001b[0m\u001b[0m\n\u001b[1;32m    284\u001b[0m     \"\"\"\n\u001b[0;32m--> 285\u001b[0;31m     \u001b[0mp_values\u001b[0m\u001b[0;34m,\u001b[0m \u001b[0maverage_ranks\u001b[0m\u001b[0;34m,\u001b[0m \u001b[0m_\u001b[0m \u001b[0;34m=\u001b[0m \u001b[0mwilcoxon_holm\u001b[0m\u001b[0;34m(\u001b[0m\u001b[0mdf_perf\u001b[0m\u001b[0;34m=\u001b[0m\u001b[0mdf_perf\u001b[0m\u001b[0;34m,\u001b[0m \u001b[0malpha\u001b[0m\u001b[0;34m=\u001b[0m\u001b[0malpha\u001b[0m\u001b[0;34m)\u001b[0m\u001b[0;34m\u001b[0m\u001b[0;34m\u001b[0m\u001b[0m\n\u001b[0m\u001b[1;32m    286\u001b[0m \u001b[0;34m\u001b[0m\u001b[0m\n\u001b[1;32m    287\u001b[0m     \u001b[0mprint\u001b[0m\u001b[0;34m(\u001b[0m\u001b[0maverage_ranks\u001b[0m\u001b[0;34m)\u001b[0m\u001b[0;34m\u001b[0m\u001b[0;34m\u001b[0m\u001b[0m\n",
            "\u001b[0;32m/content/drive/MyDrive/vitoria.barbosa.ferreira@usp.br 2021-08-09 21:44/Master/Copernicus - 15 01/Classes/3 semester/Data Mining/Time_Elastic_Kernels/main.py\u001b[0m in \u001b[0;36mwilcoxon_holm\u001b[0;34m(alpha, df_perf)\u001b[0m\n\u001b[1;32m    364\u001b[0m     \u001b[0;31m# sort the dataframe of performances\u001b[0m\u001b[0;34m\u001b[0m\u001b[0;34m\u001b[0m\u001b[0;34m\u001b[0m\u001b[0m\n\u001b[1;32m    365\u001b[0m     \u001b[0msorted_df_perf\u001b[0m \u001b[0;34m=\u001b[0m \u001b[0mdf_perf\u001b[0m\u001b[0;34m.\u001b[0m\u001b[0mloc\u001b[0m\u001b[0;34m[\u001b[0m\u001b[0mdf_perf\u001b[0m\u001b[0;34m[\u001b[0m\u001b[0;34m'classifier_name'\u001b[0m\u001b[0;34m]\u001b[0m\u001b[0;34m.\u001b[0m\u001b[0misin\u001b[0m\u001b[0;34m(\u001b[0m\u001b[0mclassifiers\u001b[0m\u001b[0;34m)\u001b[0m\u001b[0;34m]\u001b[0m\u001b[0;34m.\u001b[0m\u001b[0;31m \u001b[0m\u001b[0;31m\\\u001b[0m\u001b[0;34m\u001b[0m\u001b[0;34m\u001b[0m\u001b[0m\n\u001b[0;32m--> 366\u001b[0;31m         \u001b[0msort_values\u001b[0m\u001b[0;34m(\u001b[0m\u001b[0;34m[\u001b[0m\u001b[0;34m'classifier_name'\u001b[0m\u001b[0;34m,\u001b[0m \u001b[0;34m'dataset_name'\u001b[0m\u001b[0;34m]\u001b[0m\u001b[0;34m)\u001b[0m\u001b[0;34m\u001b[0m\u001b[0;34m\u001b[0m\u001b[0m\n\u001b[0m\u001b[1;32m    367\u001b[0m     \u001b[0;31m# get the rank data\u001b[0m\u001b[0;34m\u001b[0m\u001b[0;34m\u001b[0m\u001b[0;34m\u001b[0m\u001b[0m\n\u001b[1;32m    368\u001b[0m     \u001b[0mrank_data\u001b[0m \u001b[0;34m=\u001b[0m \u001b[0mnp\u001b[0m\u001b[0;34m.\u001b[0m\u001b[0marray\u001b[0m\u001b[0;34m(\u001b[0m\u001b[0msorted_df_perf\u001b[0m\u001b[0;34m[\u001b[0m\u001b[0;34m'accuracy'\u001b[0m\u001b[0;34m]\u001b[0m\u001b[0;34m)\u001b[0m\u001b[0;34m.\u001b[0m\u001b[0mreshape\u001b[0m\u001b[0;34m(\u001b[0m\u001b[0mm\u001b[0m\u001b[0;34m,\u001b[0m \u001b[0mmax_nb_datasets\u001b[0m\u001b[0;34m)\u001b[0m\u001b[0;34m\u001b[0m\u001b[0;34m\u001b[0m\u001b[0m\n",
            "\u001b[0;32m/usr/local/lib/python3.7/dist-packages/pandas/core/frame.py\u001b[0m in \u001b[0;36msort_values\u001b[0;34m(self, by, axis, ascending, inplace, kind, na_position, ignore_index, key)\u001b[0m\n\u001b[1;32m   5282\u001b[0m             \u001b[0;32mfrom\u001b[0m \u001b[0mpandas\u001b[0m\u001b[0;34m.\u001b[0m\u001b[0mcore\u001b[0m\u001b[0;34m.\u001b[0m\u001b[0msorting\u001b[0m \u001b[0;32mimport\u001b[0m \u001b[0mlexsort_indexer\u001b[0m\u001b[0;34m\u001b[0m\u001b[0;34m\u001b[0m\u001b[0m\n\u001b[1;32m   5283\u001b[0m \u001b[0;34m\u001b[0m\u001b[0m\n\u001b[0;32m-> 5284\u001b[0;31m             \u001b[0mkeys\u001b[0m \u001b[0;34m=\u001b[0m \u001b[0;34m[\u001b[0m\u001b[0mself\u001b[0m\u001b[0;34m.\u001b[0m\u001b[0m_get_label_or_level_values\u001b[0m\u001b[0;34m(\u001b[0m\u001b[0mx\u001b[0m\u001b[0;34m,\u001b[0m \u001b[0maxis\u001b[0m\u001b[0;34m=\u001b[0m\u001b[0maxis\u001b[0m\u001b[0;34m)\u001b[0m \u001b[0;32mfor\u001b[0m \u001b[0mx\u001b[0m \u001b[0;32min\u001b[0m \u001b[0mby\u001b[0m\u001b[0;34m]\u001b[0m\u001b[0;34m\u001b[0m\u001b[0;34m\u001b[0m\u001b[0m\n\u001b[0m\u001b[1;32m   5285\u001b[0m \u001b[0;34m\u001b[0m\u001b[0m\n\u001b[1;32m   5286\u001b[0m             \u001b[0;31m# need to rewrap columns in Series to apply key function\u001b[0m\u001b[0;34m\u001b[0m\u001b[0;34m\u001b[0m\u001b[0;34m\u001b[0m\u001b[0m\n",
            "\u001b[0;32m/usr/local/lib/python3.7/dist-packages/pandas/core/frame.py\u001b[0m in \u001b[0;36m<listcomp>\u001b[0;34m(.0)\u001b[0m\n\u001b[1;32m   5282\u001b[0m             \u001b[0;32mfrom\u001b[0m \u001b[0mpandas\u001b[0m\u001b[0;34m.\u001b[0m\u001b[0mcore\u001b[0m\u001b[0;34m.\u001b[0m\u001b[0msorting\u001b[0m \u001b[0;32mimport\u001b[0m \u001b[0mlexsort_indexer\u001b[0m\u001b[0;34m\u001b[0m\u001b[0;34m\u001b[0m\u001b[0m\n\u001b[1;32m   5283\u001b[0m \u001b[0;34m\u001b[0m\u001b[0m\n\u001b[0;32m-> 5284\u001b[0;31m             \u001b[0mkeys\u001b[0m \u001b[0;34m=\u001b[0m \u001b[0;34m[\u001b[0m\u001b[0mself\u001b[0m\u001b[0;34m.\u001b[0m\u001b[0m_get_label_or_level_values\u001b[0m\u001b[0;34m(\u001b[0m\u001b[0mx\u001b[0m\u001b[0;34m,\u001b[0m \u001b[0maxis\u001b[0m\u001b[0;34m=\u001b[0m\u001b[0maxis\u001b[0m\u001b[0;34m)\u001b[0m \u001b[0;32mfor\u001b[0m \u001b[0mx\u001b[0m \u001b[0;32min\u001b[0m \u001b[0mby\u001b[0m\u001b[0;34m]\u001b[0m\u001b[0;34m\u001b[0m\u001b[0;34m\u001b[0m\u001b[0m\n\u001b[0m\u001b[1;32m   5285\u001b[0m \u001b[0;34m\u001b[0m\u001b[0m\n\u001b[1;32m   5286\u001b[0m             \u001b[0;31m# need to rewrap columns in Series to apply key function\u001b[0m\u001b[0;34m\u001b[0m\u001b[0;34m\u001b[0m\u001b[0;34m\u001b[0m\u001b[0m\n",
            "\u001b[0;32m/usr/local/lib/python3.7/dist-packages/pandas/core/generic.py\u001b[0m in \u001b[0;36m_get_label_or_level_values\u001b[0;34m(self, key, axis)\u001b[0m\n\u001b[1;32m   1561\u001b[0m             \u001b[0mvalues\u001b[0m \u001b[0;34m=\u001b[0m \u001b[0mself\u001b[0m\u001b[0;34m.\u001b[0m\u001b[0maxes\u001b[0m\u001b[0;34m[\u001b[0m\u001b[0maxis\u001b[0m\u001b[0;34m]\u001b[0m\u001b[0;34m.\u001b[0m\u001b[0mget_level_values\u001b[0m\u001b[0;34m(\u001b[0m\u001b[0mkey\u001b[0m\u001b[0;34m)\u001b[0m\u001b[0;34m.\u001b[0m\u001b[0m_values\u001b[0m\u001b[0;34m\u001b[0m\u001b[0;34m\u001b[0m\u001b[0m\n\u001b[1;32m   1562\u001b[0m         \u001b[0;32melse\u001b[0m\u001b[0;34m:\u001b[0m\u001b[0;34m\u001b[0m\u001b[0;34m\u001b[0m\u001b[0m\n\u001b[0;32m-> 1563\u001b[0;31m             \u001b[0;32mraise\u001b[0m \u001b[0mKeyError\u001b[0m\u001b[0;34m(\u001b[0m\u001b[0mkey\u001b[0m\u001b[0;34m)\u001b[0m\u001b[0;34m\u001b[0m\u001b[0;34m\u001b[0m\u001b[0m\n\u001b[0m\u001b[1;32m   1564\u001b[0m \u001b[0;34m\u001b[0m\u001b[0m\n\u001b[1;32m   1565\u001b[0m         \u001b[0;31m# Check for duplicates\u001b[0m\u001b[0;34m\u001b[0m\u001b[0;34m\u001b[0m\u001b[0;34m\u001b[0m\u001b[0m\n",
            "\u001b[0;31mKeyError\u001b[0m: 'dataset_name'"
          ]
        }
      ],
      "source": [
        "draw_cd_diagram(df_perf=cdd, title=\"Roc Score\", labels=True) # should have computed cross - validation to all the classifiers to ave enough accuracies to compare"
      ]
    },
    {
      "cell_type": "code",
      "execution_count": null,
      "metadata": {
        "id": "c4s5ye0UEwqY"
      },
      "outputs": [],
      "source": [
        ""
      ]
    },
    {
      "cell_type": "code",
      "execution_count": null,
      "metadata": {
        "id": "FnDoynJFEfeb",
        "colab": {
          "base_uri": "https://localhost:8080/",
          "height": 404
        },
        "outputId": "bd606f69-85af-4142-aac4-f2b067e5a7a4"
      },
      "outputs": [
        {
          "output_type": "display_data",
          "data": {
            "image/png": "[encoded data removed]",
            "text/plain": [
              "<Figure size 1080x432 with 2 Axes>"
            ]
          },
          "metadata": {
            "needs_background": "light"
          }
        }
      ],
      "source": [
        "figure, axes = plt.subplots(1, 2, figsize=(15,6))\n",
        "\n",
        "final_df.plot.barh(y='processing_time', x='distances', legend=False, color=['#7189C5','#254BAC'], ax=axes[0])\n",
        "\n",
        "for y, x in enumerate(round(final_df.processing_time, 2)):\n",
        "    axes[0].annotate(str(x), xy=(x, y), ha='right', color='w')\n",
        "axes[0].set_title('Processing Time (CPU time)')\n",
        "\n",
        "final_df.plot.bar(y=['avg_precison_knn', 'eer_score'], x='distances',cmap='Set3',ax=axes[1])\n",
        "axes[1].set_title('Accuracies')\n",
        "axes[1]\n",
        "plt.xticks(rotation=0)\n",
        "plt.show()"
      ]
    }
  ],
  "metadata": {
    "colab": {
      "collapsed_sections": [
        "PWAONYE51AtM",
        "N-LnmvsB2Za5",
        "_CssayWdWYlq"
      ],
      "name": "Kernel_2_BARBOSA_FERREIRA.ipynb",
      "provenance": [],
      "include_colab_link": true
    },
    "kernelspec": {
      "display_name": "Python 3",
      "language": "python",
      "name": "python3"
    },
    "language_info": {
      "codemirror_mode": {
        "name": "ipython",
        "version": 3
      },
      "file_extension": ".py",
      "mimetype": "text/x-python",
      "name": "python",
      "nbconvert_exporter": "python",
      "pygments_lexer": "ipython3",
      "version": "3.7.10"
    }
  },
  "nbformat": 4,
  "nbformat_minor": 0
}